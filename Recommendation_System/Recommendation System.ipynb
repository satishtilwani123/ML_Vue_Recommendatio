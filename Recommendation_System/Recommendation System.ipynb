{
 "cells": [
  {
   "cell_type": "code",
   "execution_count": 1,
   "id": "461d7f19",
   "metadata": {},
   "outputs": [
    {
     "name": "stderr",
     "output_type": "stream",
     "text": [
      "Matplotlib created a temporary config/cache directory at C:\\Users\\KASB\\AppData\\Local\\Temp\\matplotlib-b1rneign because the default path (C:\\Users\\KASB\\.matplotlib) is not a writable directory; it is highly recommended to set the MPLCONFIGDIR environment variable to a writable directory, in particular to speed up the import of Matplotlib and to better support multiprocessing.\n"
     ]
    }
   ],
   "source": [
    "import pandas as pd\n",
    "import numpy as np\n",
    "import matplotlib.pyplot as plt\n",
    "import pandas as pd"
   ]
  },
  {
   "cell_type": "code",
   "execution_count": 2,
   "id": "671ccc26",
   "metadata": {},
   "outputs": [],
   "source": [
    "movies = pd.read_csv('MovieGenre.csv', sep=',', encoding='latin-1')"
   ]
  },
  {
   "cell_type": "code",
   "execution_count": 3,
   "id": "7dc81bc6",
   "metadata": {},
   "outputs": [
    {
     "data": {
      "text/html": [
       "<div>\n",
       "<style scoped>\n",
       "    .dataframe tbody tr th:only-of-type {\n",
       "        vertical-align: middle;\n",
       "    }\n",
       "\n",
       "    .dataframe tbody tr th {\n",
       "        vertical-align: top;\n",
       "    }\n",
       "\n",
       "    .dataframe thead th {\n",
       "        text-align: right;\n",
       "    }\n",
       "</style>\n",
       "<table border=\"1\" class=\"dataframe\">\n",
       "  <thead>\n",
       "    <tr style=\"text-align: right;\">\n",
       "      <th></th>\n",
       "      <th>imdbId</th>\n",
       "      <th>Imdb Link</th>\n",
       "      <th>Title</th>\n",
       "      <th>IMDB Score</th>\n",
       "      <th>Genre</th>\n",
       "      <th>Poster</th>\n",
       "    </tr>\n",
       "  </thead>\n",
       "  <tbody>\n",
       "    <tr>\n",
       "      <th>0</th>\n",
       "      <td>114709</td>\n",
       "      <td>http://www.imdb.com/title/tt114709</td>\n",
       "      <td>Toy Story (1995)</td>\n",
       "      <td>8.3</td>\n",
       "      <td>Animation|Adventure|Comedy</td>\n",
       "      <td>https://images-na.ssl-images-amazon.com/images...</td>\n",
       "    </tr>\n",
       "    <tr>\n",
       "      <th>1</th>\n",
       "      <td>113497</td>\n",
       "      <td>http://www.imdb.com/title/tt113497</td>\n",
       "      <td>Jumanji (1995)</td>\n",
       "      <td>6.9</td>\n",
       "      <td>Action|Adventure|Family</td>\n",
       "      <td>https://images-na.ssl-images-amazon.com/images...</td>\n",
       "    </tr>\n",
       "    <tr>\n",
       "      <th>2</th>\n",
       "      <td>113228</td>\n",
       "      <td>http://www.imdb.com/title/tt113228</td>\n",
       "      <td>Grumpier Old Men (1995)</td>\n",
       "      <td>6.6</td>\n",
       "      <td>Comedy|Romance</td>\n",
       "      <td>https://images-na.ssl-images-amazon.com/images...</td>\n",
       "    </tr>\n",
       "    <tr>\n",
       "      <th>3</th>\n",
       "      <td>114885</td>\n",
       "      <td>http://www.imdb.com/title/tt114885</td>\n",
       "      <td>Waiting to Exhale (1995)</td>\n",
       "      <td>5.7</td>\n",
       "      <td>Comedy|Drama|Romance</td>\n",
       "      <td>https://images-na.ssl-images-amazon.com/images...</td>\n",
       "    </tr>\n",
       "    <tr>\n",
       "      <th>4</th>\n",
       "      <td>113041</td>\n",
       "      <td>http://www.imdb.com/title/tt113041</td>\n",
       "      <td>Father of the Bride Part II (1995)</td>\n",
       "      <td>5.9</td>\n",
       "      <td>Comedy|Family|Romance</td>\n",
       "      <td>https://images-na.ssl-images-amazon.com/images...</td>\n",
       "    </tr>\n",
       "    <tr>\n",
       "      <th>...</th>\n",
       "      <td>...</td>\n",
       "      <td>...</td>\n",
       "      <td>...</td>\n",
       "      <td>...</td>\n",
       "      <td>...</td>\n",
       "      <td>...</td>\n",
       "    </tr>\n",
       "    <tr>\n",
       "      <th>11994</th>\n",
       "      <td>458522</td>\n",
       "      <td>http://www.imdb.com/title/tt458522</td>\n",
       "      <td>El cantante (2006)</td>\n",
       "      <td>5.5</td>\n",
       "      <td>Biography|Drama|Music</td>\n",
       "      <td>https://images-na.ssl-images-amazon.com/images...</td>\n",
       "    </tr>\n",
       "    <tr>\n",
       "      <th>11995</th>\n",
       "      <td>440963</td>\n",
       "      <td>http://www.imdb.com/title/tt440963</td>\n",
       "      <td>The Bourne Ultimatum (2007)</td>\n",
       "      <td>8.1</td>\n",
       "      <td>Action|Mystery|Thriller</td>\n",
       "      <td>https://images-na.ssl-images-amazon.com/images...</td>\n",
       "    </tr>\n",
       "    <tr>\n",
       "      <th>11996</th>\n",
       "      <td>804452</td>\n",
       "      <td>http://www.imdb.com/title/tt804452</td>\n",
       "      <td>Bratz (2007)</td>\n",
       "      <td>2.8</td>\n",
       "      <td>Comedy|Family|Music</td>\n",
       "      <td>https://images-na.ssl-images-amazon.com/images...</td>\n",
       "    </tr>\n",
       "    <tr>\n",
       "      <th>11997</th>\n",
       "      <td>54286</td>\n",
       "      <td>http://www.imdb.com/title/tt54286</td>\n",
       "      <td>Seishun zankoku monogatari (1960)</td>\n",
       "      <td>7.1</td>\n",
       "      <td>Drama</td>\n",
       "      <td>https://images-na.ssl-images-amazon.com/images...</td>\n",
       "    </tr>\n",
       "    <tr>\n",
       "      <th>11998</th>\n",
       "      <td>439810</td>\n",
       "      <td>http://www.imdb.com/title/tt439810</td>\n",
       "      <td>La sierra (2005)</td>\n",
       "      <td>7.7</td>\n",
       "      <td>Documentary</td>\n",
       "      <td>https://images-na.ssl-images-amazon.com/images...</td>\n",
       "    </tr>\n",
       "  </tbody>\n",
       "</table>\n",
       "<p>11999 rows × 6 columns</p>\n",
       "</div>"
      ],
      "text/plain": [
       "       imdbId                           Imdb Link  \\\n",
       "0      114709  http://www.imdb.com/title/tt114709   \n",
       "1      113497  http://www.imdb.com/title/tt113497   \n",
       "2      113228  http://www.imdb.com/title/tt113228   \n",
       "3      114885  http://www.imdb.com/title/tt114885   \n",
       "4      113041  http://www.imdb.com/title/tt113041   \n",
       "...       ...                                 ...   \n",
       "11994  458522  http://www.imdb.com/title/tt458522   \n",
       "11995  440963  http://www.imdb.com/title/tt440963   \n",
       "11996  804452  http://www.imdb.com/title/tt804452   \n",
       "11997   54286   http://www.imdb.com/title/tt54286   \n",
       "11998  439810  http://www.imdb.com/title/tt439810   \n",
       "\n",
       "                                    Title  IMDB Score  \\\n",
       "0                        Toy Story (1995)         8.3   \n",
       "1                          Jumanji (1995)         6.9   \n",
       "2                 Grumpier Old Men (1995)         6.6   \n",
       "3                Waiting to Exhale (1995)         5.7   \n",
       "4      Father of the Bride Part II (1995)         5.9   \n",
       "...                                   ...         ...   \n",
       "11994                  El cantante (2006)         5.5   \n",
       "11995         The Bourne Ultimatum (2007)         8.1   \n",
       "11996                        Bratz (2007)         2.8   \n",
       "11997   Seishun zankoku monogatari (1960)         7.1   \n",
       "11998                    La sierra (2005)         7.7   \n",
       "\n",
       "                            Genre  \\\n",
       "0      Animation|Adventure|Comedy   \n",
       "1         Action|Adventure|Family   \n",
       "2                  Comedy|Romance   \n",
       "3            Comedy|Drama|Romance   \n",
       "4           Comedy|Family|Romance   \n",
       "...                           ...   \n",
       "11994       Biography|Drama|Music   \n",
       "11995     Action|Mystery|Thriller   \n",
       "11996         Comedy|Family|Music   \n",
       "11997                       Drama   \n",
       "11998                 Documentary   \n",
       "\n",
       "                                                  Poster  \n",
       "0      https://images-na.ssl-images-amazon.com/images...  \n",
       "1      https://images-na.ssl-images-amazon.com/images...  \n",
       "2      https://images-na.ssl-images-amazon.com/images...  \n",
       "3      https://images-na.ssl-images-amazon.com/images...  \n",
       "4      https://images-na.ssl-images-amazon.com/images...  \n",
       "...                                                  ...  \n",
       "11994  https://images-na.ssl-images-amazon.com/images...  \n",
       "11995  https://images-na.ssl-images-amazon.com/images...  \n",
       "11996  https://images-na.ssl-images-amazon.com/images...  \n",
       "11997  https://images-na.ssl-images-amazon.com/images...  \n",
       "11998  https://images-na.ssl-images-amazon.com/images...  \n",
       "\n",
       "[11999 rows x 6 columns]"
      ]
     },
     "execution_count": 3,
     "metadata": {},
     "output_type": "execute_result"
    }
   ],
   "source": [
    "movies"
   ]
  },
  {
   "cell_type": "code",
   "execution_count": 4,
   "id": "2ab4825a",
   "metadata": {},
   "outputs": [
    {
     "data": {
      "text/plain": [
       "'https://images-na.ssl-images-amazon.com/images/M/MV5BMTI4NTA3MjY1OF5BMl5BanBnXkFtZTcwMzM2NjA0MQ@@._V1_UY268_CR9,0,182,268_AL_.jpg'"
      ]
     },
     "execution_count": 4,
     "metadata": {},
     "output_type": "execute_result"
    }
   ],
   "source": [
    "movies['Poster'][11998]"
   ]
  },
  {
   "cell_type": "code",
   "execution_count": 5,
   "id": "89658213",
   "metadata": {},
   "outputs": [],
   "source": [
    "movies['Genre'] = movies['Genre'].str.split('|')\n",
    "movies['Genre'] = movies['Genre'].fillna(\"\").astype('str')"
   ]
  },
  {
   "cell_type": "code",
   "execution_count": 6,
   "id": "c202b7c8",
   "metadata": {},
   "outputs": [
    {
     "data": {
      "text/plain": [
       "(11999, 306)"
      ]
     },
     "execution_count": 6,
     "metadata": {},
     "output_type": "execute_result"
    }
   ],
   "source": [
    "from sklearn.feature_extraction.text import TfidfVectorizer\n",
    "tf = TfidfVectorizer(analyzer='word', ngram_range=(1,2), min_df=0, stop_words='english')\n",
    "tfidf_matrix = tf.fit_transform(movies['Genre'])\n",
    "tfidf_matrix.shape"
   ]
  },
  {
   "cell_type": "code",
   "execution_count": 7,
   "id": "ce2d5981",
   "metadata": {},
   "outputs": [
    {
     "data": {
      "text/plain": [
       "array([[1.        , 0.11997285, 0.08119561, 0.07597926],\n",
       "       [0.11997285, 1.        , 0.        , 0.        ],\n",
       "       [0.08119561, 0.        , 1.        , 0.34838397],\n",
       "       [0.07597926, 0.        , 0.34838397, 1.        ]])"
      ]
     },
     "execution_count": 7,
     "metadata": {},
     "output_type": "execute_result"
    }
   ],
   "source": [
    "from sklearn.metrics.pairwise import cosine_similarity\n",
    "cosine_sim = cosine_similarity(tfidf_matrix, tfidf_matrix)\n",
    "cosine_sim[:4, :4]"
   ]
  },
  {
   "cell_type": "code",
   "execution_count": 8,
   "id": "979da11b",
   "metadata": {},
   "outputs": [],
   "source": [
    "pd.to_pickle(cosine_sim,r'cosine_similarity.pickle')"
   ]
  },
  {
   "cell_type": "code",
   "execution_count": 9,
   "id": "b515a748",
   "metadata": {},
   "outputs": [],
   "source": [
    "cosine_sim = pd.read_pickle(r'cosine_similarity.pickle') "
   ]
  },
  {
   "cell_type": "code",
   "execution_count": 10,
   "id": "acc2d81d",
   "metadata": {},
   "outputs": [
    {
     "data": {
      "text/plain": [
       "Title\n",
       "Toy Story (1995)                          0\n",
       "Jumanji (1995)                            1\n",
       "Grumpier Old Men (1995)                   2\n",
       "Waiting to Exhale (1995)                  3\n",
       "Father of the Bride Part II (1995)        4\n",
       "                                      ...  \n",
       "El cantante (2006)                    11994\n",
       "The Bourne Ultimatum (2007)           11995\n",
       "Bratz (2007)                          11996\n",
       "Seishun zankoku monogatari (1960)     11997\n",
       "La sierra (2005)                      11998\n",
       "Length: 11999, dtype: int64"
      ]
     },
     "execution_count": 10,
     "metadata": {},
     "output_type": "execute_result"
    }
   ],
   "source": [
    "titles = movies['Title']\n",
    "indices = pd.Series(movies['Title'].index, index=movies['Title'])\n",
    "indices"
   ]
  },
  {
   "cell_type": "code",
   "execution_count": 11,
   "id": "74195d22",
   "metadata": {},
   "outputs": [],
   "source": [
    "def genre_recommendations(title):\n",
    "  idx = indices[title]\n",
    "  sim_scores = list(enumerate(cosine_sim[idx]))\n",
    "  sim_scores = sorted(sim_scores, key=lambda x: x[1], reverse=True)\n",
    "  sim_scores = sim_scores[1:11]\n",
    "  movie_indices = [i[0] for i in sim_scores]\n",
    "  return movie_indices"
   ]
  },
  {
   "cell_type": "code",
   "execution_count": 12,
   "id": "0314409b",
   "metadata": {},
   "outputs": [
    {
     "name": "stdout",
     "output_type": "stream",
     "text": [
      "[234, 551, 580, 608, 661, 694, 994, 999, 1000, 1032]\n"
     ]
    }
   ],
   "source": [
    "recommendlist = genre_recommendations('The AristoCats (1970)')\n",
    "print(recommendlist)"
   ]
  },
  {
   "cell_type": "code",
   "execution_count": 13,
   "id": "0881d09f",
   "metadata": {},
   "outputs": [],
   "source": [
    "arr = []\n",
    "for i in recommendlist:\n",
    "    arr.append({\"id\": i, \"name\": movies['Title'][i], \"rating\": movies['IMDB Score'][i], \"poster\": movies['Poster'][i], \"genre\": movies['Genre'][i]})"
   ]
  },
  {
   "cell_type": "code",
   "execution_count": 14,
   "id": "8a2ecf1b",
   "metadata": {},
   "outputs": [
    {
     "name": "stdout",
     "output_type": "stream",
     "text": [
      "[{'id': 234, 'name': 'A Goofy Movie (1995)', 'rating': 6.8, 'poster': 'https://images-na.ssl-images-amazon.com/images/M/MV5BZDczYjU4MDMtY2RjMy00Y2UyLWE2MmMtZjliYWUwNzQ3YjExXkEyXkFqcGdeQXVyMTQxNzMzNDI@._V1_UX182_CR0,0,182,268_AL_.jpg', 'genre': \"['Animation', 'Adventure', 'Comedy']\"}, {'id': 551, 'name': 'The Pagemaster (1994)', 'rating': 6.0, 'poster': 'https://images-na.ssl-images-amazon.com/images/M/MV5BZjY1NjRjZjEtYjNhNS00YzY5LThjMGQtYmE0OTE3MGFiM2MyXkEyXkFqcGdeQXVyNTUyMzE4Mzg@._V1_UX182_CR0,0,182,268_AL_.jpg', 'genre': \"['Animation', 'Adventure', 'Comedy']\"}, {'id': 580, 'name': 'Aladdin (1992)', 'rating': 8.0, 'poster': 'https://images-na.ssl-images-amazon.com/images/M/MV5BNTI4ODQ1MzAzNV5BMl5BanBnXkFtZTgwMzU4NzMxMDE@._V1_UY268_CR9,0,182,268_AL_.jpg', 'genre': \"['Animation', 'Adventure', 'Comedy']\"}, {'id': 608, 'name': 'The AristoCats (1970)', 'rating': 7.1, 'poster': 'https://images-na.ssl-images-amazon.com/images/M/MV5BMjA4OTg4MDQ4NF5BMl5BanBnXkFtZTgwNjY0MzcxMTE@._V1_UX182_CR0,0,182,268_AL_.jpg', 'genre': \"['Animation', 'Adventure', 'Comedy']\"}, {'id': 661, 'name': 'Space Jam (1996)', 'rating': 6.3, 'poster': 'https://images-na.ssl-images-amazon.com/images/M/MV5BMDgyZTI2YmYtZmI4ZC00MzE0LWIxZWYtMWRlZWYxNjliNTJjXkEyXkFqcGdeQXVyNjY5NDU4NzI@._V1_UY268_CR8,0,182,268_AL_.jpg', 'genre': \"['Animation', 'Adventure', 'Comedy']\"}, {'id': 694, 'name': 'Oliver & Company (1988)', 'rating': 6.7, 'poster': 'https://images-na.ssl-images-amazon.com/images/M/MV5BMTI5NTE2OTQtN2YyZi00OTI5LTljMmEtMDZlMTk0MzNmZmY5L2ltYWdlL2ltYWdlXkEyXkFqcGdeQXVyMTQxNzMzNDI@._V1_UX182_CR0,0,182,268_AL_.jpg', 'genre': \"['Animation', 'Adventure', 'Comedy']\"}, {'id': 994, 'name': 'The Sword in the Stone (1963)', 'rating': 7.2, 'poster': 'https://images-na.ssl-images-amazon.com/images/M/MV5BMTcxMTE5NjkwN15BMl5BanBnXkFtZTYwODMwNzQ5._V1_UY268_CR4,0,182,268_AL_.jpg', 'genre': \"['Animation', 'Adventure', 'Comedy']\"}, {'id': 999, 'name': \"Pete's Dragon (1977)\", 'rating': 6.4, 'poster': 'https://images-na.ssl-images-amazon.com/images/M/MV5BMjJkMjcyOTktYTIwNC00MTY3LWE4ZTAtMTdlODg0NDE3YTQ1XkEyXkFqcGdeQXVyNjM1MTQ0NTQ@._V1_UX182_CR0,0,182,268_AL_.jpg', 'genre': \"['Animation', 'Adventure', 'Comedy']\"}, {'id': 1000, 'name': 'Bedknobs and Broomsticks (1971)', 'rating': 7.0, 'poster': 'https://images-na.ssl-images-amazon.com/images/M/MV5BMTUxMTY3MTE5OF5BMl5BanBnXkFtZTgwNTQ0ODgxMzE@._V1_UX182_CR0,0,182,268_AL_.jpg', 'genre': \"['Animation', 'Adventure', 'Comedy']\"}, {'id': 1032, 'name': 'Aladdin and the King of Thieves (1996)', 'rating': 6.4, 'poster': 'https://images-na.ssl-images-amazon.com/images/M/MV5BMTc0ODM0MjI2OV5BMl5BanBnXkFtZTcwMDAwNTcyMQ@@._V1_UX182_CR0,0,182,268_AL_.jpg', 'genre': \"['Animation', 'Adventure', 'Comedy']\"}]\n"
     ]
    }
   ],
   "source": [
    "print(arr)"
   ]
  },
  {
   "cell_type": "code",
   "execution_count": null,
   "id": "0cc51e39",
   "metadata": {},
   "outputs": [],
   "source": []
  }
 ],
 "metadata": {
  "kernelspec": {
   "display_name": "Python 3 (ipykernel)",
   "language": "python",
   "name": "python3"
  },
  "language_info": {
   "codemirror_mode": {
    "name": "ipython",
    "version": 3
   },
   "file_extension": ".py",
   "mimetype": "text/x-python",
   "name": "python",
   "nbconvert_exporter": "python",
   "pygments_lexer": "ipython3",
   "version": "3.9.0b3"
  }
 },
 "nbformat": 4,
 "nbformat_minor": 5
}
